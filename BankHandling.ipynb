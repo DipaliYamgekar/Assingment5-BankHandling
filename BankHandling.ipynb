{
 "cells": [
  {
   "cell_type": "code",
   "execution_count": 2,
   "id": "9154e8dd",
   "metadata": {},
   "outputs": [
    {
     "name": "stdout",
     "output_type": "stream",
     "text": [
      "------------------------\n"
     ]
    },
    {
     "ename": "TypeError",
     "evalue": "'int' object is not callable",
     "output_type": "error",
     "traceback": [
      "\u001b[1;31m---------------------------------------------------------------------------\u001b[0m",
      "\u001b[1;31mTypeError\u001b[0m                                 Traceback (most recent call last)",
      "Input \u001b[1;32mIn [2]\u001b[0m, in \u001b[0;36m<cell line: 34>\u001b[1;34m()\u001b[0m\n\u001b[0;32m     32\u001b[0m \u001b[38;5;28mprint\u001b[39m(\u001b[38;5;124m\"\u001b[39m\u001b[38;5;124m------------------------\u001b[39m\u001b[38;5;124m\"\u001b[39m)\n\u001b[0;32m     33\u001b[0m x\u001b[38;5;241m=\u001b[39mAccount()\n\u001b[1;32m---> 34\u001b[0m \u001b[43mx\u001b[49m\u001b[38;5;241;43m.\u001b[39;49m\u001b[43mbalance\u001b[49m\u001b[43m(\u001b[49m\u001b[43m)\u001b[49m\n\u001b[0;32m     35\u001b[0m x\u001b[38;5;241m.\u001b[39mwithdrawal()\n\u001b[0;32m     36\u001b[0m x\u001b[38;5;241m.\u001b[39mgetBalance()\n",
      "\u001b[1;31mTypeError\u001b[0m: 'int' object is not callable"
     ]
    }
   ],
   "source": [
    "\n",
    "class Account:\n",
    "    def __init__(self, title=None, balance=0):\n",
    "        self.title = title\n",
    "        self.balance = balance\n",
    "        pass\n",
    "    \n",
    "    def withdrawal(self, amount):\n",
    "        self.balance=self.balance-amount\n",
    "        pass\n",
    "    def deposit(self, amount):\n",
    "        self.balance=self.balance+amount\n",
    "        pass\n",
    "    def getBalance(self):\n",
    "        return self.balance\n",
    "    pass\n",
    "\n",
    "class SavingsAccount(Account):\n",
    "    def __init__(self, title=None, balance=0, interestRate=0):\n",
    "            super().__init__(title, balance)\n",
    "            self.interestRate = interestRate\n",
    "            pass\n",
    "    \n",
    "    def interestAmount(self):\n",
    "        return (self.interestRate * self.balance / 100)\n",
    "    pass\n",
    "\n",
    "demo1= SavingsAccount(\"Ashish\", 2000, 5)\n",
    "demo2= Account(\"Ashish\", 2000)\n",
    "    \n",
    "x=SavingsAccount()\n",
    "x.interestAmount()\n",
    "print(\"------------------------\")\n",
    "x=Account()\n",
    "x.balance()\n",
    "x.withdrawal()\n",
    "x.getBalance()\n",
    "print(\"--------------\")\n",
    "x=Account()\n",
    "x.balance()\n",
    "x.deposit()\n",
    "x.getBalance()"
   ]
  },
  {
   "cell_type": "code",
   "execution_count": null,
   "id": "360b1eb7",
   "metadata": {},
   "outputs": [],
   "source": []
  }
 ],
 "metadata": {
  "kernelspec": {
   "display_name": "Python 3 (ipykernel)",
   "language": "python",
   "name": "python3"
  },
  "language_info": {
   "codemirror_mode": {
    "name": "ipython",
    "version": 3
   },
   "file_extension": ".py",
   "mimetype": "text/x-python",
   "name": "python",
   "nbconvert_exporter": "python",
   "pygments_lexer": "ipython3",
   "version": "3.9.12"
  }
 },
 "nbformat": 4,
 "nbformat_minor": 5
}
